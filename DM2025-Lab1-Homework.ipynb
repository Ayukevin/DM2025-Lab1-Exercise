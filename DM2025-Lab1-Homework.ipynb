{
 "cells": [
  {
   "cell_type": "markdown",
   "metadata": {},
   "source": [
    "### Student Information\n",
    "Name: 黃楷越\n",
    "\n",
    "Student ID:B34106059\n",
    "\n",
    "GitHub ID:Ayukevin"
   ]
  },
  {
   "cell_type": "markdown",
   "metadata": {},
   "source": [
    "---"
   ]
  },
  {
   "cell_type": "markdown",
   "metadata": {},
   "source": [
    "### Instructions"
   ]
  },
  {
   "cell_type": "markdown",
   "metadata": {},
   "source": [
    "### First Phase Submission"
   ]
  },
  {
   "cell_type": "markdown",
   "metadata": {},
   "source": [
    "1. First: do the **take home** exercises in the [DM2025-Lab1-Master](https://github.com/leoson-wu/DM2025-Lab1-Exercise/blob/main/DM2025-Lab1-Master.ipynb) that considered as **phase 1 (from exercise 1 to exercise 15)**. You can answer in the master file. __This part is worth 10% of your grade.__\n",
    "\n",
    "\n",
    "2. Second: follow the same process from the [DM2025-Lab1-Master](https://github.com/leoson-wu/DM2025-Lab1-Exercise/blob/main/DM2025-Lab1-Master.ipynb) on **the new dataset** up **until phase 1**. You can skip some exercises if you think some steps are not necessary. However main exercises should be completed. You don't need to explain all details as we did (some **minimal comments** explaining your code are useful though).  __This part is worth 15% of your grade.__\n",
    "    -  Use [the new dataset](https://github.com/leoson-wu/DM2025-Lab1-Exercise/blob/main/newdataset/Reddit-stock-sentiment.csv). The dataset contains a 16 columns including 'text' and 'label', with the sentiment labels being: 1.0 is positive, 0.0 is neutral and -1.0 is negative. You can simplify the dataset and use only the columns that you think are necessary. \n",
    "    \n",
    "    - You are allowed to use and modify the `helper` functions in the folder of the first lab session (notice they may need modification) or create your own.\n",
    "    - Use this file to complete the homework from the second part. Make sure the code can be run from the beginning till the end and has all the needed output.\n",
    "\n",
    "\n",
    "3. Third: please attempt the following tasks on **the new dataset**. __This part is worth 10% of your grade.__\n",
    "    - Generate meaningful **new data visualizations**. Refer to online resources and the Data Mining textbook for inspiration and ideas. \n",
    "    \n",
    "\n",
    "\n",
    "4. Fourth: It's hard for us to follow if your code is messy, so please **tidy up your notebook** and **add minimal comments where needed**. __This part is worth 5% of your grade.__\n",
    "\n",
    "You can submit your homework following these guidelines: [DM2025-Lab1-announcement](https://github.com/leoson-wu/DM2025-Lab1-Announcement/blob/main/README.md). Make sure to commit and save your changes to your repository __BEFORE the deadline (September 28th 11:59 pm, Sunday)__. "
   ]
  },
  {
   "cell_type": "markdown",
   "metadata": {},
   "source": [
    "### Second Phase Submission "
   ]
  },
  {
   "cell_type": "markdown",
   "metadata": {},
   "source": [
    "**You can keep the answer for phase 1 for easier running and update the phase 2 on the same page.**\n",
    "\n",
    "1. First: Continue doing the **take home** exercises in the [DM2025-Lab1-Master](https://github.com/leoson-wu/DM2025-Lab1-Exercise/blob/main/DM2025-Lab1-Master.ipynb) for **phase 2, starting from Finding frequent patterns**. Use the same master(.ipynb) file. Answer from phase 1 will not be considered at this stage. You can answer in the master file. __This part is worth 10% of your grade.__\n",
    "\n",
    "\n",
    "2. Second: Continue from first phase and do the same process from the [DM2025-Lab1-Master](https://github.com/leoson-wu/DM2025-Lab1-Exercise/blob/main/DM2025-Lab1-Master.ipynb) on **the new dataset** for phase 2, starting from Finding frequent pattern. You can skip some exercises if you think some steps are not necessary. However main exercises should be completed. You don't need to explain all details as we did (some **minimal comments** explaining your code are useful though).  __This part is worth 15% of your grade.__\n",
    "    - Continue using this file to complete the homework from the second part. Make sure the code can be run from the beginning till the end and has all the needed output. Use the same new dataset as in phase 1.\n",
    "    \n",
    "    - You are allowed to use and modify the `helper` functions in the folder of the first lab session (notice they may need modification) or create your own.\n",
    "\n",
    "3. Third: please attempt the following tasks on **the new dataset**. __This part is worth 20% of your grade.__\n",
    "    - Use this file to answer.\n",
    "    - Generate **TF-IDF features** from the tokens of each text. This will generating a document matrix, however, the weights will be computed differently (using the TF-IDF value of each word per document as opposed to the word frequency).  Refer to this Scikit-learn [guide](http://scikit-learn.org/stable/modules/generated/sklearn.feature_extraction.text.TfidfVectorizer.html) .\n",
    "    - Implement a simple **Naive Bayes classifier** that automatically classifies the records into their categories. Use both the TF-IDF features and word frequency features to build two seperate classifiers. Note that for the TF-IDF features you might need to use other type of NB classifier different than the one in the Master Notebook. Comment on the differences and when using augmentation with feature pattern.  Refer to this [article](https://hub.packtpub.com/implementing-3-naive-bayes-classifiers-in-scikit-learn/).\n",
    "\n",
    "\n",
    "4. Fourth: In the lab, we applied each step really quickly just to illustrate how to work with your dataset. There are somethings that are not ideal or the most efficient/meaningful. Each dataset can be handled differently as well. What are those inefficent parts you noticed? How can you improve the Data preprocessing for these specific datasets? __This part is worth 10% of your grade.__\n",
    "\n",
    "\n",
    "5. Fifth: It's hard for us to follow if your code is messy, so please **tidy up your notebook** and **add minimal comments where needed**. __This part is worth 5% of your grade.__\n",
    "\n",
    "\n",
    "You can submit your homework following these guidelines: [DM2025-Lab1-announcement](https://github.com/leoson-wu/DM2025-Lab1-Announcement/blob/main/README.md). Make sure to commit and save your changes to your repository __BEFORE the deadline (October 19th 11:59 pm, Sunday)__. "
   ]
  },
  {
   "cell_type": "code",
   "execution_count": 1,
   "metadata": {},
   "outputs": [
    {
     "name": "stderr",
     "output_type": "stream",
     "text": [
      "[nltk_data] Downloading package punkt to\n",
      "[nltk_data]     C:\\Users\\Kevin\\AppData\\Roaming\\nltk_data...\n",
      "[nltk_data]   Package punkt is already up-to-date!\n"
     ]
    }
   ],
   "source": [
    "# test code for environment setup\n",
    "import pandas as pd\n",
    "import numpy as np\n",
    "import nltk\n",
    "nltk.download('punkt') # download the NLTK datasets\n",
    "from sklearn.datasets import fetch_20newsgroups\n",
    "from sklearn.feature_extraction.text import CountVectorizer\n",
    "import plotly as py\n",
    "import math\n",
    "# If you get \"ModuleNotFoundError: No module named 'PAMI'\"\n",
    "# run the following in a new Jupyter cell:\n",
    "# !pip3 install PAMI\n",
    "import PAMI\n",
    "import umap\n",
    "\n",
    "categories = ['alt.atheism', 'soc.religion.christian', 'comp.graphics', 'sci.med']\n",
    "twenty_train = fetch_20newsgroups(subset='train', categories=categories, shuffle=True, random_state=42)"
   ]
  },
  {
   "cell_type": "markdown",
   "metadata": {},
   "source": [
    "# Phase 1"
   ]
  },
  {
   "cell_type": "code",
   "execution_count": 15,
   "metadata": {},
   "outputs": [
    {
     "name": "stdout",
     "output_type": "stream",
     "text": [
      "(847, 16)\n"
     ]
    },
    {
     "data": {
      "application/vnd.microsoft.datawrangler.viewer.v0+json": {
       "columns": [
        {
         "name": "index",
         "rawType": "int64",
         "type": "integer"
        },
        {
         "name": "type",
         "rawType": "object",
         "type": "string"
        },
        {
         "name": "datetime",
         "rawType": "object",
         "type": "string"
        },
        {
         "name": "post_id",
         "rawType": "object",
         "type": "string"
        },
        {
         "name": "subreddit",
         "rawType": "object",
         "type": "string"
        },
        {
         "name": "title",
         "rawType": "object",
         "type": "string"
        },
        {
         "name": "author",
         "rawType": "object",
         "type": "string"
        },
        {
         "name": "url",
         "rawType": "object",
         "type": "string"
        },
        {
         "name": "upvotes",
         "rawType": "int64",
         "type": "integer"
        },
        {
         "name": "downvotes",
         "rawType": "float64",
         "type": "float"
        },
        {
         "name": "upvote_ratio",
         "rawType": "float64",
         "type": "float"
        },
        {
         "name": "text",
         "rawType": "object",
         "type": "string"
        },
        {
         "name": "subjectivity",
         "rawType": "float64",
         "type": "float"
        },
        {
         "name": "polarity",
         "rawType": "float64",
         "type": "float"
        },
        {
         "name": "sentiment",
         "rawType": "float64",
         "type": "float"
        },
        {
         "name": "entities",
         "rawType": "object",
         "type": "string"
        },
        {
         "name": "label",
         "rawType": "float64",
         "type": "float"
        }
       ],
       "ref": "3c4ffc47-090b-44db-9fd7-eafa50e873c2",
       "rows": [
        [
         "0",
         "comment",
         "2025-04-11 17:29:56",
         "mmli62w",
         "wallstreetbets",
         "Retardation is on the menu boys! WSB is so back",
         "StickyTip420",
         "https://i.redd.it/0yq2ftren8ue1.jpeg",
         "0",
         null,
         null,
         "Calls on retards",
         "1.0",
         "-0.9",
         "-1.0",
         "[]",
         "-1.0"
        ],
        [
         "1",
         "comment",
         "2025-04-12 1:12:19",
         "mmnu7v9",
         "wallstreetbets",
         "Retail giant TARGET has now declined for 10 consecutive weeks, its longest losing streak in history",
         "Comfortable-Dog-8437",
         "https://i.redd.it/7tl6puv9waue1.jpeg",
         "-15",
         null,
         null,
         "Stunt as in like why did they even make a big deal about starting it in the first place? No company should ever talk about politics ever.",
         "0.1777777777777777",
         "0.0833333333333333",
         "1.0",
         "['Stunt', 'company', 'deal', 'place']",
         "0.0"
        ],
        [
         "2",
         "comment",
         "2025-04-10 15:09:41",
         "mmeevio",
         "StockMarket",
         "How do you feel about a sitting president making $415M in one day after pumping his own stock with social media and a policy decision?",
         "Btankersly66",
         "https://apnews.com/article/trump-truth-social-djt-tesla-musk-tariffs-pause-fccfa6b06c8f1ec0cd7844641ca52669",
         "1",
         null,
         null,
         "Seeing lots of red in the ticker.",
         "0.0",
         "0.0",
         "0.0",
         "['ticker']",
         "0.0"
        ],
        [
         "3",
         "post",
         "2023-08-30 17:12:55",
         "165kllm",
         "stockstobuytoday",
         "Who knows more? $VMAR",
         "emiljenfn",
         "https://www.reddit.com/r/stockstobuytoday/comments/165kllm/who_knows_more_vmar/",
         "30",
         "0.0",
         "0.98",
         "Vision Marine Technologies Inc. is rewriting the watercraft rulebook. Their collaboration with Shaun Torrente has achieved the unthinkable – a blazing 116 mph on water! This isn't just about speed; it's about propelling electric boating into a new era. Their cutting-edge technology, combined with Torrente's skill, is making waves that'll ripple for generations.\r\n\r\n**Highlight Main Points**\r\n\r\n* Vision Marine Technologies Inc. achieves a record-breaking 116 mph speed on water with Shaun Torrente.\r\n* The feat highlights the power of electric boating and pushes the limits of innovation.\r\n* Partners like Octillion Power Systems and Danfoss Editron contribute to this groundbreaking achievement.\r\n\r\n**TLDR**\r\n\r\nHold onto your seats – Vision Marine Technologies Inc. and Shaun Torrente have shattered the water-speed record at an astonishing 116 mph!  This isn't just about speed; it's about pioneering electric boating and innovation. The collaboration of technology, skill, and passion is creating ripples that'll be felt for years to come in the world of watercraft.\r\n\r\n[]()",
         "0.646969696969697",
         "0.2163825757575757",
         "1.0",
         "['watercraft', 'skill', 'power', ']', 'feat', 'Marine', 'Main', 'Systems', 'Vision Marine Technologies Inc.', 'Vision', 'water', 'record', 'Torrente', 'passion', 'Inc.', 'Shaun', 'Octillion Power Systems', 'collaboration', 'innovation', 'rulebook', 'Points', '–', 'Hold', 'Danfoss', 'speed', 'mph', 'achievement', 'technology', 'Power', 'boating', 'Octillion', 'Highlight', 'TLDR', 'world', 'Editron', 'contribute', 'water-speed', '*', 'era']",
         "1.0"
        ],
        [
         "4",
         "comment",
         "2025-04-11 14:48:05",
         "mmkl6bw",
         "StockMarket",
         "The Trump administration is begging Xi Jinping to call Trump quickly.",
         "Just-Big6411",
         "https://edition.cnn.com/2025/04/10/politics/trump-xi-china-tariffs/index.html",
         "1",
         null,
         null,
         "He didn’t say thank you.",
         "0.0",
         "0.0",
         "0.0",
         "[]",
         "-1.0"
        ]
       ],
       "shape": {
        "columns": 16,
        "rows": 5
       }
      },
      "text/html": [
       "<div>\n",
       "<style scoped>\n",
       "    .dataframe tbody tr th:only-of-type {\n",
       "        vertical-align: middle;\n",
       "    }\n",
       "\n",
       "    .dataframe tbody tr th {\n",
       "        vertical-align: top;\n",
       "    }\n",
       "\n",
       "    .dataframe thead th {\n",
       "        text-align: right;\n",
       "    }\n",
       "</style>\n",
       "<table border=\"1\" class=\"dataframe\">\n",
       "  <thead>\n",
       "    <tr style=\"text-align: right;\">\n",
       "      <th></th>\n",
       "      <th>type</th>\n",
       "      <th>datetime</th>\n",
       "      <th>post_id</th>\n",
       "      <th>subreddit</th>\n",
       "      <th>title</th>\n",
       "      <th>author</th>\n",
       "      <th>url</th>\n",
       "      <th>upvotes</th>\n",
       "      <th>downvotes</th>\n",
       "      <th>upvote_ratio</th>\n",
       "      <th>text</th>\n",
       "      <th>subjectivity</th>\n",
       "      <th>polarity</th>\n",
       "      <th>sentiment</th>\n",
       "      <th>entities</th>\n",
       "      <th>label</th>\n",
       "    </tr>\n",
       "  </thead>\n",
       "  <tbody>\n",
       "    <tr>\n",
       "      <th>0</th>\n",
       "      <td>comment</td>\n",
       "      <td>2025-04-11 17:29:56</td>\n",
       "      <td>mmli62w</td>\n",
       "      <td>wallstreetbets</td>\n",
       "      <td>Retardation is on the menu boys! WSB is so back</td>\n",
       "      <td>StickyTip420</td>\n",
       "      <td>https://i.redd.it/0yq2ftren8ue1.jpeg</td>\n",
       "      <td>0</td>\n",
       "      <td>NaN</td>\n",
       "      <td>NaN</td>\n",
       "      <td>Calls on retards</td>\n",
       "      <td>1.000000</td>\n",
       "      <td>-0.900000</td>\n",
       "      <td>-1.0</td>\n",
       "      <td>[]</td>\n",
       "      <td>-1.0</td>\n",
       "    </tr>\n",
       "    <tr>\n",
       "      <th>1</th>\n",
       "      <td>comment</td>\n",
       "      <td>2025-04-12 1:12:19</td>\n",
       "      <td>mmnu7v9</td>\n",
       "      <td>wallstreetbets</td>\n",
       "      <td>Retail giant TARGET has now declined for 10 co...</td>\n",
       "      <td>Comfortable-Dog-8437</td>\n",
       "      <td>https://i.redd.it/7tl6puv9waue1.jpeg</td>\n",
       "      <td>-15</td>\n",
       "      <td>NaN</td>\n",
       "      <td>NaN</td>\n",
       "      <td>Stunt as in like why did they even make a big ...</td>\n",
       "      <td>0.177778</td>\n",
       "      <td>0.083333</td>\n",
       "      <td>1.0</td>\n",
       "      <td>['Stunt', 'company', 'deal', 'place']</td>\n",
       "      <td>0.0</td>\n",
       "    </tr>\n",
       "    <tr>\n",
       "      <th>2</th>\n",
       "      <td>comment</td>\n",
       "      <td>2025-04-10 15:09:41</td>\n",
       "      <td>mmeevio</td>\n",
       "      <td>StockMarket</td>\n",
       "      <td>How do you feel about a sitting president maki...</td>\n",
       "      <td>Btankersly66</td>\n",
       "      <td>https://apnews.com/article/trump-truth-social-...</td>\n",
       "      <td>1</td>\n",
       "      <td>NaN</td>\n",
       "      <td>NaN</td>\n",
       "      <td>Seeing lots of red in the ticker.</td>\n",
       "      <td>0.000000</td>\n",
       "      <td>0.000000</td>\n",
       "      <td>0.0</td>\n",
       "      <td>['ticker']</td>\n",
       "      <td>0.0</td>\n",
       "    </tr>\n",
       "    <tr>\n",
       "      <th>3</th>\n",
       "      <td>post</td>\n",
       "      <td>2023-08-30 17:12:55</td>\n",
       "      <td>165kllm</td>\n",
       "      <td>stockstobuytoday</td>\n",
       "      <td>Who knows more? $VMAR</td>\n",
       "      <td>emiljenfn</td>\n",
       "      <td>https://www.reddit.com/r/stockstobuytoday/comm...</td>\n",
       "      <td>30</td>\n",
       "      <td>0.0</td>\n",
       "      <td>0.98</td>\n",
       "      <td>Vision Marine Technologies Inc. is rewriting t...</td>\n",
       "      <td>0.646970</td>\n",
       "      <td>0.216383</td>\n",
       "      <td>1.0</td>\n",
       "      <td>['watercraft', 'skill', 'power', ']', 'feat', ...</td>\n",
       "      <td>1.0</td>\n",
       "    </tr>\n",
       "    <tr>\n",
       "      <th>4</th>\n",
       "      <td>comment</td>\n",
       "      <td>2025-04-11 14:48:05</td>\n",
       "      <td>mmkl6bw</td>\n",
       "      <td>StockMarket</td>\n",
       "      <td>The Trump administration is begging Xi Jinping...</td>\n",
       "      <td>Just-Big6411</td>\n",
       "      <td>https://edition.cnn.com/2025/04/10/politics/tr...</td>\n",
       "      <td>1</td>\n",
       "      <td>NaN</td>\n",
       "      <td>NaN</td>\n",
       "      <td>He didn’t say thank you.</td>\n",
       "      <td>0.000000</td>\n",
       "      <td>0.000000</td>\n",
       "      <td>0.0</td>\n",
       "      <td>[]</td>\n",
       "      <td>-1.0</td>\n",
       "    </tr>\n",
       "  </tbody>\n",
       "</table>\n",
       "</div>"
      ],
      "text/plain": [
       "      type             datetime  post_id         subreddit  \\\n",
       "0  comment  2025-04-11 17:29:56  mmli62w    wallstreetbets   \n",
       "1  comment   2025-04-12 1:12:19  mmnu7v9    wallstreetbets   \n",
       "2  comment  2025-04-10 15:09:41  mmeevio       StockMarket   \n",
       "3     post  2023-08-30 17:12:55  165kllm  stockstobuytoday   \n",
       "4  comment  2025-04-11 14:48:05  mmkl6bw       StockMarket   \n",
       "\n",
       "                                               title                author  \\\n",
       "0    Retardation is on the menu boys! WSB is so back          StickyTip420   \n",
       "1  Retail giant TARGET has now declined for 10 co...  Comfortable-Dog-8437   \n",
       "2  How do you feel about a sitting president maki...          Btankersly66   \n",
       "3                              Who knows more? $VMAR             emiljenfn   \n",
       "4  The Trump administration is begging Xi Jinping...          Just-Big6411   \n",
       "\n",
       "                                                 url  upvotes  downvotes  \\\n",
       "0               https://i.redd.it/0yq2ftren8ue1.jpeg        0        NaN   \n",
       "1               https://i.redd.it/7tl6puv9waue1.jpeg      -15        NaN   \n",
       "2  https://apnews.com/article/trump-truth-social-...        1        NaN   \n",
       "3  https://www.reddit.com/r/stockstobuytoday/comm...       30        0.0   \n",
       "4  https://edition.cnn.com/2025/04/10/politics/tr...        1        NaN   \n",
       "\n",
       "   upvote_ratio                                               text  \\\n",
       "0           NaN                                   Calls on retards   \n",
       "1           NaN  Stunt as in like why did they even make a big ...   \n",
       "2           NaN                  Seeing lots of red in the ticker.   \n",
       "3          0.98  Vision Marine Technologies Inc. is rewriting t...   \n",
       "4           NaN                           He didn’t say thank you.   \n",
       "\n",
       "   subjectivity  polarity  sentiment  \\\n",
       "0      1.000000 -0.900000       -1.0   \n",
       "1      0.177778  0.083333        1.0   \n",
       "2      0.000000  0.000000        0.0   \n",
       "3      0.646970  0.216383        1.0   \n",
       "4      0.000000  0.000000        0.0   \n",
       "\n",
       "                                            entities  label  \n",
       "0                                                 []   -1.0  \n",
       "1              ['Stunt', 'company', 'deal', 'place']    0.0  \n",
       "2                                         ['ticker']    0.0  \n",
       "3  ['watercraft', 'skill', 'power', ']', 'feat', ...    1.0  \n",
       "4                                                 []   -1.0  "
      ]
     },
     "execution_count": 15,
     "metadata": {},
     "output_type": "execute_result"
    }
   ],
   "source": [
    "### Begin Assignment Here\n",
    "### Preprocess the text data\n",
    "df = pd.read_csv('newdataset\\Reddit-stock-sentiment.csv', encoding='utf-8')\n",
    "print(df.shape)\n",
    "df.head(5)\n"
   ]
  },
  {
   "cell_type": "code",
   "execution_count": 9,
   "metadata": {},
   "outputs": [
    {
     "name": "stdout",
     "output_type": "stream",
     "text": [
      "Sample 1:\n",
      " title: Retardation is on the menu boys! WSB is so back\n",
      " text: Calls on retards\n",
      "\n",
      "Sample 2:\n",
      " title: Retail giant TARGET has now declined for 10 consecutive weeks, its longest losing streak in history\n",
      " text: Stunt as in like why did they even make a big deal about starting it in the first place? No company should ever talk about politics ever.\n",
      "\n",
      "Sample 3:\n",
      " title: How do you feel about a sitting president making $415M in one day after pumping his own stock with social media and a policy decision?\n",
      " text: Seeing lots of red in the ticker.\n",
      "\n"
     ]
    }
   ],
   "source": [
    "## ex1: print out the text data for the first three samples in the dataset\n",
    "for i in range(3):\n",
    "    print(f\"Sample {i+1}:\\n title: {df['title'][i]}\\n text: {df['text'][i]}\\n\")\n"
   ]
  },
  {
   "cell_type": "code",
   "execution_count": null,
   "metadata": {},
   "outputs": [
    {
     "name": "stdout",
     "output_type": "stream",
     "text": [
      "Calls on retards\n",
      "comment\n"
     ]
    }
   ],
   "source": [
    "## ex2: querying techniques using pandas df\n",
    "# using at (label based)\n",
    "print(df.at[0, 'text'])\n",
    "# using iat (position based)[0, 'type']\n",
    "print(df.iat[0, 0])"
   ]
  },
  {
   "cell_type": "code",
   "execution_count": 13,
   "metadata": {},
   "outputs": [
    {
     "data": {
      "application/vnd.microsoft.datawrangler.viewer.v0+json": {
       "columns": [
        {
         "name": "index",
         "rawType": "int64",
         "type": "integer"
        },
        {
         "name": "type",
         "rawType": "object",
         "type": "string"
        },
        {
         "name": "datetime",
         "rawType": "object",
         "type": "string"
        },
        {
         "name": "post_id",
         "rawType": "object",
         "type": "string"
        },
        {
         "name": "subreddit",
         "rawType": "object",
         "type": "string"
        },
        {
         "name": "title",
         "rawType": "object",
         "type": "string"
        },
        {
         "name": "author",
         "rawType": "object",
         "type": "string"
        },
        {
         "name": "url",
         "rawType": "object",
         "type": "string"
        },
        {
         "name": "upvotes",
         "rawType": "int64",
         "type": "integer"
        },
        {
         "name": "downvotes",
         "rawType": "float64",
         "type": "float"
        },
        {
         "name": "upvote_ratio",
         "rawType": "float64",
         "type": "float"
        },
        {
         "name": "text",
         "rawType": "object",
         "type": "string"
        },
        {
         "name": "subjectivity",
         "rawType": "float64",
         "type": "float"
        },
        {
         "name": "polarity",
         "rawType": "float64",
         "type": "float"
        },
        {
         "name": "sentiment",
         "rawType": "float64",
         "type": "float"
        },
        {
         "name": "entities",
         "rawType": "object",
         "type": "string"
        },
        {
         "name": "label",
         "rawType": "float64",
         "type": "float"
        }
       ],
       "ref": "9513aece-a997-4339-860f-47e872fafc85",
       "rows": [
        [
         "3",
         "post",
         "2023-08-30 17:12:55",
         "165kllm",
         "stockstobuytoday",
         "Who knows more? $VMAR",
         "emiljenfn",
         "https://www.reddit.com/r/stockstobuytoday/comments/165kllm/who_knows_more_vmar/",
         "30",
         "0.0",
         "0.98",
         "Vision Marine Technologies Inc. is rewriting the watercraft rulebook. Their collaboration with Shaun Torrente has achieved the unthinkable – a blazing 116 mph on water! This isn't just about speed; it's about propelling electric boating into a new era. Their cutting-edge technology, combined with Torrente's skill, is making waves that'll ripple for generations.\r\n\r\n**Highlight Main Points**\r\n\r\n* Vision Marine Technologies Inc. achieves a record-breaking 116 mph speed on water with Shaun Torrente.\r\n* The feat highlights the power of electric boating and pushes the limits of innovation.\r\n* Partners like Octillion Power Systems and Danfoss Editron contribute to this groundbreaking achievement.\r\n\r\n**TLDR**\r\n\r\nHold onto your seats – Vision Marine Technologies Inc. and Shaun Torrente have shattered the water-speed record at an astonishing 116 mph!  This isn't just about speed; it's about pioneering electric boating and innovation. The collaboration of technology, skill, and passion is creating ripples that'll be felt for years to come in the world of watercraft.\r\n\r\n[]()",
         "0.646969696969697",
         "0.2163825757575757",
         "1.0",
         "['watercraft', 'skill', 'power', ']', 'feat', 'Marine', 'Main', 'Systems', 'Vision Marine Technologies Inc.', 'Vision', 'water', 'record', 'Torrente', 'passion', 'Inc.', 'Shaun', 'Octillion Power Systems', 'collaboration', 'innovation', 'rulebook', 'Points', '–', 'Hold', 'Danfoss', 'speed', 'mph', 'achievement', 'technology', 'Power', 'boating', 'Octillion', 'Highlight', 'TLDR', 'world', 'Editron', 'contribute', 'water-speed', '*', 'era']",
         "1.0"
        ],
        [
         "165",
         "post",
         "2025-04-09 14:01:01",
         "1jv6i3y",
         "stockstobuytoday",
         "Established Uptrend",
         "AutoModerator",
         "https://www.reddit.com/r/stockstobuytoday/comments/1jv6i3y/established_uptrend/",
         "1",
         "0.0",
         "1.0",
         "Stock list generated from technical Analysis. \r\n\r\nUpdated weekly\r\n\r\nStocks already on an established uptrend\r\n\r\nStocks just started uptrend\r\n\r\n [Uptrend SMA (stockbuyvest.com)](,geo_usa,ind_stocksonly,sh_avgvol_o2000,sh_curvol_o5000,sh_instown_o50,sh_relvol_o1,ta_rsi_nob60,ta_sma20_sa50,ta_sma200_pa,ta_sma50_sa200&ft=2&o=-pb)",
         "0.1",
         "0.0",
         "0.0",
         "['SMA', 'ta_rsi_nob60', 'ft=2', 'stockbuyvest.com', 'sh_curvol_o5000', ']', 'ta_sma20_sa50', 'ta_sma50_sa200', 'geo_usa', 'list', 'sh_instown_o50', 'Analysis', 'sh_relvol_o1', 'sh_avgvol_o2000', 'ta_sma200_pa', 'o=-pb', 'Uptrend', 'Stock', 'Stocks', '[']",
         "0.0"
        ],
        [
         "332",
         "post",
         "2025-04-11 18:25:25",
         "1jwwv42",
         "wallstreetbets",
         "$75k+ In Gains (300% YTD)",
         "KatBoss01",
         "https://www.reddit.com/gallery/1jwwv42",
         "5",
         "0.0",
         "1.0",
         "Mostly in MSTR calls, AAPL puts and GBTC long.",
         "0.45",
         "0.225",
         "1.0",
         "['GBTC', 'MSTR', 'AAPL']",
         "1.0"
        ],
        [
         "421",
         "post",
         "2025-03-31 14:05:30",
         "1jo3zpc",
         "stockstobuytoday",
         "Stock Gainers for Today",
         "saasfin",
         "https://www.reddit.com/r/stockstobuytoday/comments/1jo3zpc/stock_gainers_for_today/",
         "1",
         "0.0",
         "1.0",
         "Stocks that are trending up today\r\n\r\n [Popping (stockbuyvest.com)]()",
         "0.0",
         "0.0",
         "0.0",
         "[']', 'Popping', 'stockbuyvest.com', 'today']",
         "0.0"
        ],
        [
         "487",
         "post",
         "2021-12-25 0:40:59",
         "rnypxo",
         "stockstobuytoday",
         "Deep value vs Dividend!",
         "AnonymusFarmer",
         "https://www.reddit.com/r/stockstobuytoday/comments/rnypxo/deep_value_vs_dividend/",
         "9",
         "0.0",
         "0.91",
         "Good Morning Investors, \r\n\r\nI am a young Finance student with lots of ideas and plans. \r\n\r\nI would like to ask you, as you were my friends, about my little project:\r\n\r\n* Share my Equities Portfolios\r\n* Share my studies and little researches \r\n* Create a positive community of Non-Degenerated young investors\r\n\r\nFor example, during the last couple of months, I have been working on 2 different portfolios.\r\n\r\nThe First is a dividend king portfolio with a high dividend yield and the second one, is a small group of equities that would call \"Deep Value\".  \r\n\r\nIs someone interested in knowing my work and my studies?\r\n\r\n&#x200B;\r\n\r\nStay safe and have a lot's of Capital Gain!",
         "0.4190303030303031",
         "0.1191515151515151",
         "1.0",
         "['student', 'someone', 'x200B', 'dividend', 'work', 'Value', 'Finance', 'portfolio', 'Capital Gain', 'Non-Degenerated', 'Share', 'project', 'First', 'group', 'Stay', 'yield', 'example', 'Portfolios', 'community', 'couple', 'Create', 'Morning', 'lot', 'Gain', 'Capital', '*']",
         "0.0"
        ]
       ],
       "shape": {
        "columns": 16,
        "rows": 5
       }
      },
      "text/html": [
       "<div>\n",
       "<style scoped>\n",
       "    .dataframe tbody tr th:only-of-type {\n",
       "        vertical-align: middle;\n",
       "    }\n",
       "\n",
       "    .dataframe tbody tr th {\n",
       "        vertical-align: top;\n",
       "    }\n",
       "\n",
       "    .dataframe thead th {\n",
       "        text-align: right;\n",
       "    }\n",
       "</style>\n",
       "<table border=\"1\" class=\"dataframe\">\n",
       "  <thead>\n",
       "    <tr style=\"text-align: right;\">\n",
       "      <th></th>\n",
       "      <th>type</th>\n",
       "      <th>datetime</th>\n",
       "      <th>post_id</th>\n",
       "      <th>subreddit</th>\n",
       "      <th>title</th>\n",
       "      <th>author</th>\n",
       "      <th>url</th>\n",
       "      <th>upvotes</th>\n",
       "      <th>downvotes</th>\n",
       "      <th>upvote_ratio</th>\n",
       "      <th>text</th>\n",
       "      <th>subjectivity</th>\n",
       "      <th>polarity</th>\n",
       "      <th>sentiment</th>\n",
       "      <th>entities</th>\n",
       "      <th>label</th>\n",
       "    </tr>\n",
       "  </thead>\n",
       "  <tbody>\n",
       "    <tr>\n",
       "      <th>3</th>\n",
       "      <td>post</td>\n",
       "      <td>2023-08-30 17:12:55</td>\n",
       "      <td>165kllm</td>\n",
       "      <td>stockstobuytoday</td>\n",
       "      <td>Who knows more? $VMAR</td>\n",
       "      <td>emiljenfn</td>\n",
       "      <td>https://www.reddit.com/r/stockstobuytoday/comm...</td>\n",
       "      <td>30</td>\n",
       "      <td>0.0</td>\n",
       "      <td>0.98</td>\n",
       "      <td>Vision Marine Technologies Inc. is rewriting t...</td>\n",
       "      <td>0.64697</td>\n",
       "      <td>0.216383</td>\n",
       "      <td>1.0</td>\n",
       "      <td>['watercraft', 'skill', 'power', ']', 'feat', ...</td>\n",
       "      <td>1.0</td>\n",
       "    </tr>\n",
       "    <tr>\n",
       "      <th>165</th>\n",
       "      <td>post</td>\n",
       "      <td>2025-04-09 14:01:01</td>\n",
       "      <td>1jv6i3y</td>\n",
       "      <td>stockstobuytoday</td>\n",
       "      <td>Established Uptrend</td>\n",
       "      <td>AutoModerator</td>\n",
       "      <td>https://www.reddit.com/r/stockstobuytoday/comm...</td>\n",
       "      <td>1</td>\n",
       "      <td>0.0</td>\n",
       "      <td>1.00</td>\n",
       "      <td>Stock list generated from technical Analysis. ...</td>\n",
       "      <td>0.10000</td>\n",
       "      <td>0.000000</td>\n",
       "      <td>0.0</td>\n",
       "      <td>['SMA', 'ta_rsi_nob60', 'ft=2', 'stockbuyvest....</td>\n",
       "      <td>0.0</td>\n",
       "    </tr>\n",
       "    <tr>\n",
       "      <th>332</th>\n",
       "      <td>post</td>\n",
       "      <td>2025-04-11 18:25:25</td>\n",
       "      <td>1jwwv42</td>\n",
       "      <td>wallstreetbets</td>\n",
       "      <td>$75k+ In Gains (300% YTD)</td>\n",
       "      <td>KatBoss01</td>\n",
       "      <td>https://www.reddit.com/gallery/1jwwv42</td>\n",
       "      <td>5</td>\n",
       "      <td>0.0</td>\n",
       "      <td>1.00</td>\n",
       "      <td>Mostly in MSTR calls, AAPL puts and GBTC long.</td>\n",
       "      <td>0.45000</td>\n",
       "      <td>0.225000</td>\n",
       "      <td>1.0</td>\n",
       "      <td>['GBTC', 'MSTR', 'AAPL']</td>\n",
       "      <td>1.0</td>\n",
       "    </tr>\n",
       "    <tr>\n",
       "      <th>421</th>\n",
       "      <td>post</td>\n",
       "      <td>2025-03-31 14:05:30</td>\n",
       "      <td>1jo3zpc</td>\n",
       "      <td>stockstobuytoday</td>\n",
       "      <td>Stock Gainers for Today</td>\n",
       "      <td>saasfin</td>\n",
       "      <td>https://www.reddit.com/r/stockstobuytoday/comm...</td>\n",
       "      <td>1</td>\n",
       "      <td>0.0</td>\n",
       "      <td>1.00</td>\n",
       "      <td>Stocks that are trending up today\\r\\n\\r\\n [Pop...</td>\n",
       "      <td>0.00000</td>\n",
       "      <td>0.000000</td>\n",
       "      <td>0.0</td>\n",
       "      <td>[']', 'Popping', 'stockbuyvest.com', 'today']</td>\n",
       "      <td>0.0</td>\n",
       "    </tr>\n",
       "    <tr>\n",
       "      <th>487</th>\n",
       "      <td>post</td>\n",
       "      <td>2021-12-25 0:40:59</td>\n",
       "      <td>rnypxo</td>\n",
       "      <td>stockstobuytoday</td>\n",
       "      <td>Deep value vs Dividend!</td>\n",
       "      <td>AnonymusFarmer</td>\n",
       "      <td>https://www.reddit.com/r/stockstobuytoday/comm...</td>\n",
       "      <td>9</td>\n",
       "      <td>0.0</td>\n",
       "      <td>0.91</td>\n",
       "      <td>Good Morning Investors, \\r\\n\\r\\nI am a young F...</td>\n",
       "      <td>0.41903</td>\n",
       "      <td>0.119152</td>\n",
       "      <td>1.0</td>\n",
       "      <td>['student', 'someone', 'x200B', 'dividend', 'w...</td>\n",
       "      <td>0.0</td>\n",
       "    </tr>\n",
       "  </tbody>\n",
       "</table>\n",
       "</div>"
      ],
      "text/plain": [
       "     type             datetime  post_id         subreddit  \\\n",
       "3    post  2023-08-30 17:12:55  165kllm  stockstobuytoday   \n",
       "165  post  2025-04-09 14:01:01  1jv6i3y  stockstobuytoday   \n",
       "332  post  2025-04-11 18:25:25  1jwwv42    wallstreetbets   \n",
       "421  post  2025-03-31 14:05:30  1jo3zpc  stockstobuytoday   \n",
       "487  post   2021-12-25 0:40:59   rnypxo  stockstobuytoday   \n",
       "\n",
       "                         title          author  \\\n",
       "3        Who knows more? $VMAR       emiljenfn   \n",
       "165        Established Uptrend   AutoModerator   \n",
       "332  $75k+ In Gains (300% YTD)       KatBoss01   \n",
       "421    Stock Gainers for Today         saasfin   \n",
       "487    Deep value vs Dividend!  AnonymusFarmer   \n",
       "\n",
       "                                                   url  upvotes  downvotes  \\\n",
       "3    https://www.reddit.com/r/stockstobuytoday/comm...       30        0.0   \n",
       "165  https://www.reddit.com/r/stockstobuytoday/comm...        1        0.0   \n",
       "332             https://www.reddit.com/gallery/1jwwv42        5        0.0   \n",
       "421  https://www.reddit.com/r/stockstobuytoday/comm...        1        0.0   \n",
       "487  https://www.reddit.com/r/stockstobuytoday/comm...        9        0.0   \n",
       "\n",
       "     upvote_ratio                                               text  \\\n",
       "3            0.98  Vision Marine Technologies Inc. is rewriting t...   \n",
       "165          1.00  Stock list generated from technical Analysis. ...   \n",
       "332          1.00     Mostly in MSTR calls, AAPL puts and GBTC long.   \n",
       "421          1.00  Stocks that are trending up today\\r\\n\\r\\n [Pop...   \n",
       "487          0.91  Good Morning Investors, \\r\\n\\r\\nI am a young F...   \n",
       "\n",
       "     subjectivity  polarity  sentiment  \\\n",
       "3         0.64697  0.216383        1.0   \n",
       "165       0.10000  0.000000        0.0   \n",
       "332       0.45000  0.225000        1.0   \n",
       "421       0.00000  0.000000        0.0   \n",
       "487       0.41903  0.119152        1.0   \n",
       "\n",
       "                                              entities  label  \n",
       "3    ['watercraft', 'skill', 'power', ']', 'feat', ...    1.0  \n",
       "165  ['SMA', 'ta_rsi_nob60', 'ft=2', 'stockbuyvest....    0.0  \n",
       "332                           ['GBTC', 'MSTR', 'AAPL']    1.0  \n",
       "421      [']', 'Popping', 'stockbuyvest.com', 'today']    0.0  \n",
       "487  ['student', 'someone', 'x200B', 'dividend', 'w...    0.0  "
      ]
     },
     "execution_count": 13,
     "metadata": {},
     "output_type": "execute_result"
    }
   ],
   "source": [
    "## ex3: try to fetch records belonging to the category\n",
    "result = df[df['type'] == 'post'][::10][:5]\n",
    "result"
   ]
  },
  {
   "cell_type": "code",
   "execution_count": null,
   "metadata": {},
   "outputs": [
    {
     "data": {
      "application/vnd.microsoft.datawrangler.viewer.v0+json": {
       "columns": [
        {
         "name": "index",
         "rawType": "object",
         "type": "string"
        },
        {
         "name": "0",
         "rawType": "int64",
         "type": "integer"
        }
       ],
       "ref": "5b7db7cd-ff1d-4c6b-8e73-f5bf44ea8274",
       "rows": [
        [
         "type",
         "0"
        ],
        [
         "datetime",
         "0"
        ],
        [
         "post_id",
         "0"
        ],
        [
         "subreddit",
         "0"
        ],
        [
         "title",
         "0"
        ],
        [
         "author",
         "0"
        ],
        [
         "url",
         "0"
        ],
        [
         "upvotes",
         "0"
        ],
        [
         "downvotes",
         "783"
        ],
        [
         "upvote_ratio",
         "783"
        ],
        [
         "text",
         "0"
        ],
        [
         "subjectivity",
         "0"
        ],
        [
         "polarity",
         "0"
        ],
        [
         "sentiment",
         "0"
        ],
        [
         "entities",
         "0"
        ],
        [
         "label",
         "0"
        ]
       ],
       "shape": {
        "columns": 1,
        "rows": 16
       }
      },
      "text/plain": [
       "type              0\n",
       "datetime          0\n",
       "post_id           0\n",
       "subreddit         0\n",
       "title             0\n",
       "author            0\n",
       "url               0\n",
       "upvotes           0\n",
       "downvotes       783\n",
       "upvote_ratio    783\n",
       "text              0\n",
       "subjectivity      0\n",
       "polarity          0\n",
       "sentiment         0\n",
       "entities          0\n",
       "label             0\n",
       "dtype: int64"
      ]
     },
     "execution_count": 14,
     "metadata": {},
     "output_type": "execute_result"
    }
   ],
   "source": [
    "## ex4: calculating missing values by column\n",
    "df.isnull().sum()\n",
    "### 'downvotes' and 'upvote_ratio' columns have missing values"
   ]
  },
  {
   "cell_type": "code",
   "execution_count": 16,
   "metadata": {},
   "outputs": [
    {
     "data": {
      "text/plain": [
       "Text(0.5, 1.0, 'Distribution of Post Types')"
      ]
     },
     "execution_count": 16,
     "metadata": {},
     "output_type": "execute_result"
    },
    {
     "data": {
      "image/png": "[encoded data removed]",
      "text/plain": [
       "<Figure size 1000x600 with 1 Axes>"
      ]
     },
     "metadata": {},
     "output_type": "display_data"
    }
   ],
   "source": [
    "## ex5 and ex6 skip\n",
    "## ex7: visualize Category distribution\n",
    "import matplotlib.pyplot as plt\n",
    "import seaborn as sns\n",
    "plt.figure(figsize=(10,6))\n",
    "sns.countplot(data=df, x='type', order = df['type'].value_counts().index)\n",
    "plt.title('Distribution of Post Types')"
   ]
  },
  {
   "cell_type": "code",
   "execution_count": 33,
   "metadata": {},
   "outputs": [
    {
     "data": {
      "image/png": "[encoded data removed]",
      "text/plain": [
       "<Figure size 1000x600 with 1 Axes>"
      ]
     },
     "metadata": {},
     "output_type": "display_data"
    }
   ],
   "source": [
    "## ex8: side by side chart from two datasets\n",
    "df_sample = df.sample(n=300)\n",
    "temp = pd.DataFrame({\n",
    "    'original': df['type'].value_counts(),\n",
    "    'sampled': df_sample['type'].value_counts()\n",
    "})\n",
    "ax = temp.plot.bar(rot=0, figsize=(10,6), title='Category Distribution: Original vs Sampled')"
   ]
  },
  {
   "cell_type": "code",
   "execution_count": null,
   "metadata": {},
   "outputs": [
    {
     "data": {
      "text/plain": [
       "['calls', 'on', 'retards']"
      ]
     },
     "execution_count": 34,
     "metadata": {},
     "output_type": "execute_result"
    }
   ],
   "source": [
    "## ex9: Feature Creation: analyze the first record of dataframe\n",
    "import helpers.data_mining_helpers as dmh\n",
    "from sklearn.feature_extraction.text import CountVectorizer\n",
    "count_vect = CountVectorizer()\n",
    "analyze = count_vect.build_analyzer()\n",
    "analyze(df['text'][0])"
   ]
  },
  {
   "cell_type": "code",
   "execution_count": 60,
   "metadata": {},
   "outputs": [
    {
     "name": "stdout",
     "output_type": "stream",
     "text": [
      "[[0 0 0 0 0 0 0 0 1 0 0 0 0 0 0 0 0 0 0 0 0 0 0 0 0 0 0 0 0 0 0 0 0 0 0 0\n",
      "  0 0 0 0 0 0 0 0 0 0 0 0 0 0 0 0 0 0 0 0 0 0 0 0 0 0 0 0 0 0 0 0 0 0 0 0\n",
      "  0 0 0 0 0 0 0 0 0 0 0 0 0 0 0 0 0 0 0 0 0 0 0 0 0 0 0 0]]\n"
     ]
    },
    {
     "data": {
      "text/plain": [
       "[('it', np.int64(2)),\n",
       " ('the', np.int64(1)),\n",
       " ('is', np.int64(1)),\n",
       " ('and', np.int64(1)),\n",
       " ('to', np.int64(1)),\n",
       " ('hlgn', np.int64(1)),\n",
       " ('10', np.int64(1)),\n",
       " ('hurry', np.int64(1)),\n",
       " ('catch', np.int64(1)),\n",
       " ('now', np.int64(1)),\n",
       " ('before', np.int64(1)),\n",
       " ('shoots', np.int64(1)),\n",
       " ('moon', np.int64(1))]"
      ]
     },
     "execution_count": 60,
     "metadata": {},
     "output_type": "execute_result"
    }
   ],
   "source": [
    "## ex10: verify what word this 1 represents from the vocabulary\n",
    "X_counts = count_vect.fit_transform(df['text'])\n",
    "print(X_counts[9, 0:100].toarray())\n",
    "# pick the 9th record and get the non-zero features\n",
    "row = X_counts[9]\n",
    "nonzero_indices = row.nonzero()[1] \n",
    "\n",
    "# map those indices back to words in the vocabulary\n",
    "words = [count_vect.get_feature_names_out()[i] for i in nonzero_indices]\n",
    "counts = row.toarray()[0, nonzero_indices]\n",
    "\n",
    "# Combine\n",
    "list(zip(words, counts))"
   ]
  },
  {
   "cell_type": "code",
   "execution_count": null,
   "metadata": {},
   "outputs": [],
   "source": [
    "## ex11: "
   ]
  },
  {
   "cell_type": "markdown",
   "metadata": {},
   "source": [
    "# Phase 2"
   ]
  },
  {
   "cell_type": "code",
   "execution_count": null,
   "metadata": {},
   "outputs": [],
   "source": [
    "### Begin Assignment Here"
   ]
  }
 ],
 "metadata": {
  "kernelspec": {
   "display_name": "DM2025-Lab1-Exercise",
   "language": "python",
   "name": "python3"
  },
  "language_info": {
   "codemirror_mode": {
    "name": "ipython",
    "version": 3
   },
   "file_extension": ".py",
   "mimetype": "text/x-python",
   "name": "python",
   "nbconvert_exporter": "python",
   "pygments_lexer": "ipython3",
   "version": "3.11.0"
  }
 },
 "nbformat": 4,
 "nbformat_minor": 4
}
